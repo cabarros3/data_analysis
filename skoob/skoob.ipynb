{
  "nbformat": 4,
  "nbformat_minor": 0,
  "metadata": {
    "colab": {
      "name": "skoob.ipynb",
      "provenance": [],
      "authorship_tag": "ABX9TyP3sWpC+ji4a7HOD3Yy41of",
      "include_colab_link": true
    },
    "kernelspec": {
      "name": "python3",
      "display_name": "Python 3"
    }
  },
  "cells": [
    {
      "cell_type": "markdown",
      "metadata": {
        "id": "view-in-github",
        "colab_type": "text"
      },
      "source": [
        "<a href=\"https://colab.research.google.com/github/cabarros3/data_analysis/blob/main/skoob/skoob.ipynb\" target=\"_parent\"><img src=\"https://colab.research.google.com/assets/colab-badge.svg\" alt=\"Open In Colab\"/></a>"
      ]
    },
    {
      "cell_type": "markdown",
      "metadata": {
        "id": "sS8yrmKi9EtF"
      },
      "source": [
        "![retina-logo.png](data:image/png;base64,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)\r\n",
        "# Data Analysis - SKOOB"
      ]
    },
    {
      "cell_type": "markdown",
      "metadata": {
        "id": "V_FOAbV99j31"
      },
      "source": [
        "1.   **O que é o skoob?**\r\n",
        "\r\n",
        "  Skoob é uma rede social colaborativa brasileira para leitores, lançada em janeiro de 2009 pelo desenvolvedor Lindenberg Moreira. O site tornou-se um ponto de encontro para leitores e novos escritores, que trocam sugestões de leitura e organizam reuniões em livrarias. Seu nome deriva da palavra books, ao contrário\r\n",
        "\r\n",
        "2.   **Como funciona?**\r\n",
        "\r\n",
        "  No Skoob podemos criar nosso status de leitura, adicionar um rating ao livro que estamos lendo ou que já lemos e podemos adicionar resenhar desses livros.\r\n",
        "\r\n",
        "\r\n",
        "### Sumário do notebook\r\n",
        "\r\n",
        "*   [Data Pre-processing](https://colab.research.google.com/drive/15P1Xod8P5bhVp_0K4LUl9_U8fcONB0FO#scrollTo=-GjchBeR85CH&line=1&uniqifier=1)\r\n",
        "  \r\n",
        "  * Importando as bibliotecas\r\n",
        "  * Importando o arquivo \r\n",
        "  * Visualizando o shape do arquivo\r\n",
        "  * Data Cleaning\r\n",
        "*   [Data Visualization](https://colab.research.google.com/drive/15P1Xod8P5bhVp_0K4LUl9_U8fcONB0FO#scrollTo=EX0Chj1gCGXl&line=1&uniqifier=1)\r\n",
        " * Number of books in all the different languages\r\n",
        "  * Top 10 most rated books\r\n",
        "  * Top 10 books with most text reviews\r\n",
        "  * Top 10 books with highest average rating\r\n",
        "  * Author of most books\r\n",
        "  * Average rating distribution of all books\r\n",
        "  * Top 10 books with most pages\r\n",
        "  * Top 10 highly rated authors\r\n",
        "\r\n",
        "\r\n",
        ">[LINK do dataset no meu github](https://github.com/cabarros3/testes/blob/main/dados.csv)\r\n",
        "\r\n",
        ">[Link do notebook de inspiração no Kaggle](https://www.kaggle.com/listonlt/books-data-visualisation-with-seaborn/comments)\r\n",
        "\r\n",
        ">[Tutorial](https://www.alura.com.br/artigos/como-remover-linhas-e-colunas-no-pandas)\r\n",
        "\r\n",
        "\r\n",
        "\r\n"
      ]
    },
    {
      "cell_type": "markdown",
      "metadata": {
        "id": "-GjchBeR85CH"
      },
      "source": [
        "# Data Pre-processing"
      ]
    },
    {
      "cell_type": "code",
      "metadata": {
        "id": "f8fpMcTt7kOO"
      },
      "source": [
        "import pandas as pd\r\n",
        "import numpy as np # linear algebra\r\n",
        "import seaborn as sns\r\n",
        "import matplotlib.pyplot as plt\r\n",
        "import os"
      ],
      "execution_count": 108,
      "outputs": []
    },
    {
      "cell_type": "code",
      "metadata": {
        "colab": {
          "base_uri": "https://localhost:8080/",
          "height": 564
        },
        "id": "7IGQM6Yd7odd",
        "outputId": "1bda503c-6e23-475a-ea58-f6f15864e832"
      },
      "source": [
        "dados_skoob = pd.read_csv('https://raw.githubusercontent.com/cabarros3/data_analysis/9770967f415816718d11ca1a490088ecab7f676d/skoob/dados.csv')\r\n",
        "dados_skoob.head()"
      ],
      "execution_count": 107,
      "outputs": [
        {
          "output_type": "execute_result",
          "data": {
            "text/html": [
              "<div>\n",
              "<style scoped>\n",
              "    .dataframe tbody tr th:only-of-type {\n",
              "        vertical-align: middle;\n",
              "    }\n",
              "\n",
              "    .dataframe tbody tr th {\n",
              "        vertical-align: top;\n",
              "    }\n",
              "\n",
              "    .dataframe thead th {\n",
              "        text-align: right;\n",
              "    }\n",
              "</style>\n",
              "<table border=\"1\" class=\"dataframe\">\n",
              "  <thead>\n",
              "    <tr style=\"text-align: right;\">\n",
              "      <th></th>\n",
              "      <th>titulo</th>\n",
              "      <th>autor</th>\n",
              "      <th>ISBN_13</th>\n",
              "      <th>ISBN_10</th>\n",
              "      <th>ano</th>\n",
              "      <th>paginas</th>\n",
              "      <th>idioma</th>\n",
              "      <th>editora</th>\n",
              "      <th>rating</th>\n",
              "      <th>avaliacao</th>\n",
              "      <th>resenha</th>\n",
              "      <th>abandonos</th>\n",
              "      <th>relendo</th>\n",
              "      <th>querem_ler</th>\n",
              "      <th>lendo</th>\n",
              "      <th>leram</th>\n",
              "      <th>descricao</th>\n",
              "      <th>genero</th>\n",
              "      <th>male</th>\n",
              "      <th>female</th>\n",
              "    </tr>\n",
              "  </thead>\n",
              "  <tbody>\n",
              "    <tr>\n",
              "      <th>0</th>\n",
              "      <td>Orçamento sem falhas</td>\n",
              "      <td>Nath Finanças</td>\n",
              "      <td>9.786556e+12</td>\n",
              "      <td>6555601566</td>\n",
              "      <td>2021</td>\n",
              "      <td>128</td>\n",
              "      <td>português</td>\n",
              "      <td>Intrínseca</td>\n",
              "      <td>0.0</td>\n",
              "      <td>0</td>\n",
              "      <td>0</td>\n",
              "      <td>0</td>\n",
              "      <td>0</td>\n",
              "      <td>1</td>\n",
              "      <td>0</td>\n",
              "      <td>0</td>\n",
              "      <td>Quando o assunto é dinheiro, não dá para achar...</td>\n",
              "      <td>Economia, Finanças / Literatura Brasileira / N...</td>\n",
              "      <td>28</td>\n",
              "      <td>72</td>\n",
              "    </tr>\n",
              "    <tr>\n",
              "      <th>1</th>\n",
              "      <td>Minha Sombria Vanessa</td>\n",
              "      <td>Kate Elizabeth Russell</td>\n",
              "      <td>9.788551e+12</td>\n",
              "      <td>8551006274</td>\n",
              "      <td>2020</td>\n",
              "      <td>432</td>\n",
              "      <td>português</td>\n",
              "      <td>Intrínseca</td>\n",
              "      <td>4.3</td>\n",
              "      <td>2</td>\n",
              "      <td>653</td>\n",
              "      <td>48</td>\n",
              "      <td>3</td>\n",
              "      <td>6</td>\n",
              "      <td>389</td>\n",
              "      <td>2</td>\n",
              "      <td>Elogiado por Gillian Flynn e considerado um do...</td>\n",
              "      <td>Drama / Ficção / Literatura Estrangeira / Susp...</td>\n",
              "      <td>7</td>\n",
              "      <td>93</td>\n",
              "    </tr>\n",
              "    <tr>\n",
              "      <th>2</th>\n",
              "      <td>Recursão</td>\n",
              "      <td>Blake Crouch</td>\n",
              "      <td>9.788551e+12</td>\n",
              "      <td>8551005375</td>\n",
              "      <td>2020</td>\n",
              "      <td>320</td>\n",
              "      <td>português</td>\n",
              "      <td>Intrínseca</td>\n",
              "      <td>4.4</td>\n",
              "      <td>2</td>\n",
              "      <td>618</td>\n",
              "      <td>22</td>\n",
              "      <td>2</td>\n",
              "      <td>6</td>\n",
              "      <td>295</td>\n",
              "      <td>2</td>\n",
              "      <td>E se um dia memórias vívidas de coisas que nun...</td>\n",
              "      <td>Ficção / Ficção científica / Literatura Estran...</td>\n",
              "      <td>21</td>\n",
              "      <td>79</td>\n",
              "    </tr>\n",
              "    <tr>\n",
              "      <th>3</th>\n",
              "      <td>M, o Filho do Século</td>\n",
              "      <td>Antonio Scurati</td>\n",
              "      <td>9.788551e+12</td>\n",
              "      <td>855100607X</td>\n",
              "      <td>2020</td>\n",
              "      <td>816</td>\n",
              "      <td>português</td>\n",
              "      <td>Intrínseca</td>\n",
              "      <td>4.6</td>\n",
              "      <td>60</td>\n",
              "      <td>12</td>\n",
              "      <td>1</td>\n",
              "      <td>0</td>\n",
              "      <td>951</td>\n",
              "      <td>49</td>\n",
              "      <td>55</td>\n",
              "      <td>O romance M, o Filho do Século conta em trama ...</td>\n",
              "      <td>Biografia, Autobiografia, Memórias / História ...</td>\n",
              "      <td>37</td>\n",
              "      <td>63</td>\n",
              "    </tr>\n",
              "    <tr>\n",
              "      <th>4</th>\n",
              "      <td>Oblivion Song: Entre Dois Mundos</td>\n",
              "      <td>Robert Kirkman</td>\n",
              "      <td>9.788551e+12</td>\n",
              "      <td>8551006258</td>\n",
              "      <td>2020</td>\n",
              "      <td>136</td>\n",
              "      <td>português</td>\n",
              "      <td>Intrínseca</td>\n",
              "      <td>4.1</td>\n",
              "      <td>166</td>\n",
              "      <td>16</td>\n",
              "      <td>0</td>\n",
              "      <td>0</td>\n",
              "      <td>376</td>\n",
              "      <td>6</td>\n",
              "      <td>184</td>\n",
              "      <td>Mestre em traçar universos distópicos permeado...</td>\n",
              "      <td>Ficção / HQ, comics, mangá / Literatura Estran...</td>\n",
              "      <td>44</td>\n",
              "      <td>56</td>\n",
              "    </tr>\n",
              "  </tbody>\n",
              "</table>\n",
              "</div>"
            ],
            "text/plain": [
              "                             titulo                   autor  ...  male female\n",
              "0              Orçamento sem falhas           Nath Finanças  ...    28     72\n",
              "1             Minha Sombria Vanessa  Kate Elizabeth Russell  ...     7     93\n",
              "2                          Recursão            Blake Crouch  ...    21     79\n",
              "3              M, o Filho do Século         Antonio Scurati  ...    37     63\n",
              "4  Oblivion Song: Entre Dois Mundos          Robert Kirkman  ...    44     56\n",
              "\n",
              "[5 rows x 20 columns]"
            ]
          },
          "metadata": {
            "tags": []
          },
          "execution_count": 107
        }
      ]
    },
    {
      "cell_type": "markdown",
      "metadata": {
        "id": "9k7ogkHa1fpT"
      },
      "source": [
        "### DATA CLEANING"
      ]
    },
    {
      "cell_type": "code",
      "metadata": {
        "colab": {
          "base_uri": "https://localhost:8080/",
          "height": 145
        },
        "id": "4arsgCFg1fal",
        "outputId": "40a78775-9cd5-4cb6-e697-b716d0697e7d"
      },
      "source": [
        "# drop columns 'ISBN_13', 'ISBN_10', 'descricao'\r\n",
        "\r\n",
        "#create a dataset copy called 'df_skoob'\r\n",
        "df_skoob = dados_skoob.drop(columns=['ISBN_13','ISBN_10','descricao'])\r\n",
        "df_skoob.head(2)"
      ],
      "execution_count": 115,
      "outputs": [
        {
          "output_type": "execute_result",
          "data": {
            "text/html": [
              "<div>\n",
              "<style scoped>\n",
              "    .dataframe tbody tr th:only-of-type {\n",
              "        vertical-align: middle;\n",
              "    }\n",
              "\n",
              "    .dataframe tbody tr th {\n",
              "        vertical-align: top;\n",
              "    }\n",
              "\n",
              "    .dataframe thead th {\n",
              "        text-align: right;\n",
              "    }\n",
              "</style>\n",
              "<table border=\"1\" class=\"dataframe\">\n",
              "  <thead>\n",
              "    <tr style=\"text-align: right;\">\n",
              "      <th></th>\n",
              "      <th>titulo</th>\n",
              "      <th>autor</th>\n",
              "      <th>ano</th>\n",
              "      <th>paginas</th>\n",
              "      <th>idioma</th>\n",
              "      <th>editora</th>\n",
              "      <th>rating</th>\n",
              "      <th>avaliacao</th>\n",
              "      <th>resenha</th>\n",
              "      <th>abandonos</th>\n",
              "      <th>relendo</th>\n",
              "      <th>querem_ler</th>\n",
              "      <th>lendo</th>\n",
              "      <th>leram</th>\n",
              "      <th>genero</th>\n",
              "      <th>male</th>\n",
              "      <th>female</th>\n",
              "    </tr>\n",
              "  </thead>\n",
              "  <tbody>\n",
              "    <tr>\n",
              "      <th>0</th>\n",
              "      <td>Orçamento sem falhas</td>\n",
              "      <td>Nath Finanças</td>\n",
              "      <td>2021</td>\n",
              "      <td>128</td>\n",
              "      <td>português</td>\n",
              "      <td>Intrínseca</td>\n",
              "      <td>0.0</td>\n",
              "      <td>0</td>\n",
              "      <td>0</td>\n",
              "      <td>0</td>\n",
              "      <td>0</td>\n",
              "      <td>1</td>\n",
              "      <td>0</td>\n",
              "      <td>0</td>\n",
              "      <td>Economia, Finanças / Literatura Brasileira / N...</td>\n",
              "      <td>28</td>\n",
              "      <td>72</td>\n",
              "    </tr>\n",
              "    <tr>\n",
              "      <th>1</th>\n",
              "      <td>Minha Sombria Vanessa</td>\n",
              "      <td>Kate Elizabeth Russell</td>\n",
              "      <td>2020</td>\n",
              "      <td>432</td>\n",
              "      <td>português</td>\n",
              "      <td>Intrínseca</td>\n",
              "      <td>4.3</td>\n",
              "      <td>2</td>\n",
              "      <td>653</td>\n",
              "      <td>48</td>\n",
              "      <td>3</td>\n",
              "      <td>6</td>\n",
              "      <td>389</td>\n",
              "      <td>2</td>\n",
              "      <td>Drama / Ficção / Literatura Estrangeira / Susp...</td>\n",
              "      <td>7</td>\n",
              "      <td>93</td>\n",
              "    </tr>\n",
              "  </tbody>\n",
              "</table>\n",
              "</div>"
            ],
            "text/plain": [
              "                  titulo                   autor  ...  male  female\n",
              "0   Orçamento sem falhas           Nath Finanças  ...    28      72\n",
              "1  Minha Sombria Vanessa  Kate Elizabeth Russell  ...     7      93\n",
              "\n",
              "[2 rows x 17 columns]"
            ]
          },
          "metadata": {
            "tags": []
          },
          "execution_count": 115
        }
      ]
    },
    {
      "cell_type": "code",
      "metadata": {
        "colab": {
          "base_uri": "https://localhost:8080/",
          "height": 145
        },
        "id": "Ro1EVJ-P2770",
        "outputId": "7fdb59d4-dfed-46f7-fd7c-48c89f5b15f0"
      },
      "source": [
        "# rename columns 'paginas', 'genero'\r\n",
        "\r\n",
        "df_skoob.rename(columns={'paginas':'total_paginas','genero':'genero_literario'}, inplace=True)\r\n",
        "df_skoob.head(2)"
      ],
      "execution_count": 117,
      "outputs": [
        {
          "output_type": "execute_result",
          "data": {
            "text/html": [
              "<div>\n",
              "<style scoped>\n",
              "    .dataframe tbody tr th:only-of-type {\n",
              "        vertical-align: middle;\n",
              "    }\n",
              "\n",
              "    .dataframe tbody tr th {\n",
              "        vertical-align: top;\n",
              "    }\n",
              "\n",
              "    .dataframe thead th {\n",
              "        text-align: right;\n",
              "    }\n",
              "</style>\n",
              "<table border=\"1\" class=\"dataframe\">\n",
              "  <thead>\n",
              "    <tr style=\"text-align: right;\">\n",
              "      <th></th>\n",
              "      <th>titulo</th>\n",
              "      <th>autor</th>\n",
              "      <th>ano</th>\n",
              "      <th>total_paginas</th>\n",
              "      <th>idioma</th>\n",
              "      <th>editora</th>\n",
              "      <th>rating</th>\n",
              "      <th>avaliacao</th>\n",
              "      <th>resenha</th>\n",
              "      <th>abandonos</th>\n",
              "      <th>relendo</th>\n",
              "      <th>querem_ler</th>\n",
              "      <th>lendo</th>\n",
              "      <th>leram</th>\n",
              "      <th>genero_literario</th>\n",
              "      <th>male</th>\n",
              "      <th>female</th>\n",
              "    </tr>\n",
              "  </thead>\n",
              "  <tbody>\n",
              "    <tr>\n",
              "      <th>0</th>\n",
              "      <td>Orçamento sem falhas</td>\n",
              "      <td>Nath Finanças</td>\n",
              "      <td>2021</td>\n",
              "      <td>128</td>\n",
              "      <td>português</td>\n",
              "      <td>Intrínseca</td>\n",
              "      <td>0.0</td>\n",
              "      <td>0</td>\n",
              "      <td>0</td>\n",
              "      <td>0</td>\n",
              "      <td>0</td>\n",
              "      <td>1</td>\n",
              "      <td>0</td>\n",
              "      <td>0</td>\n",
              "      <td>Economia, Finanças / Literatura Brasileira / N...</td>\n",
              "      <td>28</td>\n",
              "      <td>72</td>\n",
              "    </tr>\n",
              "    <tr>\n",
              "      <th>1</th>\n",
              "      <td>Minha Sombria Vanessa</td>\n",
              "      <td>Kate Elizabeth Russell</td>\n",
              "      <td>2020</td>\n",
              "      <td>432</td>\n",
              "      <td>português</td>\n",
              "      <td>Intrínseca</td>\n",
              "      <td>4.3</td>\n",
              "      <td>2</td>\n",
              "      <td>653</td>\n",
              "      <td>48</td>\n",
              "      <td>3</td>\n",
              "      <td>6</td>\n",
              "      <td>389</td>\n",
              "      <td>2</td>\n",
              "      <td>Drama / Ficção / Literatura Estrangeira / Susp...</td>\n",
              "      <td>7</td>\n",
              "      <td>93</td>\n",
              "    </tr>\n",
              "  </tbody>\n",
              "</table>\n",
              "</div>"
            ],
            "text/plain": [
              "                  titulo                   autor  ...  male  female\n",
              "0   Orçamento sem falhas           Nath Finanças  ...    28      72\n",
              "1  Minha Sombria Vanessa  Kate Elizabeth Russell  ...     7      93\n",
              "\n",
              "[2 rows x 17 columns]"
            ]
          },
          "metadata": {
            "tags": []
          },
          "execution_count": 117
        }
      ]
    },
    {
      "cell_type": "code",
      "metadata": {
        "id": "9N9kDwQ-4lHG"
      },
      "source": [
        "# creating a filter to rating > 5\r\n",
        "df_rating = df_skoob['rating'] <= 5\r\n",
        "df_semifinal = df_skoob[df_rating]\r\n",
        "#df_semifinal.sort_values('rating', ascending=False)  # verificar se o maior rating é 5"
      ],
      "execution_count": 133,
      "outputs": []
    },
    {
      "cell_type": "code",
      "metadata": {
        "colab": {
          "base_uri": "https://localhost:8080/",
          "height": 145
        },
        "id": "XcRV31Af7Kt1",
        "outputId": "7dc27053-f96c-4dfa-93aa-a47f25953371"
      },
      "source": [
        "# creating a filter to avaliacao != 0\r\n",
        "df_ava = df_semifinal['avaliacao'] != 0\r\n",
        "df_final = df_semifinal[df_ava]\r\n",
        "# df_final.head(2) # verifica se na coluna avaliacao ainda existe algum valor 0"
      ],
      "execution_count": 135,
      "outputs": [
        {
          "output_type": "execute_result",
          "data": {
            "text/html": [
              "<div>\n",
              "<style scoped>\n",
              "    .dataframe tbody tr th:only-of-type {\n",
              "        vertical-align: middle;\n",
              "    }\n",
              "\n",
              "    .dataframe tbody tr th {\n",
              "        vertical-align: top;\n",
              "    }\n",
              "\n",
              "    .dataframe thead th {\n",
              "        text-align: right;\n",
              "    }\n",
              "</style>\n",
              "<table border=\"1\" class=\"dataframe\">\n",
              "  <thead>\n",
              "    <tr style=\"text-align: right;\">\n",
              "      <th></th>\n",
              "      <th>titulo</th>\n",
              "      <th>autor</th>\n",
              "      <th>ano</th>\n",
              "      <th>total_paginas</th>\n",
              "      <th>idioma</th>\n",
              "      <th>editora</th>\n",
              "      <th>rating</th>\n",
              "      <th>avaliacao</th>\n",
              "      <th>resenha</th>\n",
              "      <th>abandonos</th>\n",
              "      <th>relendo</th>\n",
              "      <th>querem_ler</th>\n",
              "      <th>lendo</th>\n",
              "      <th>leram</th>\n",
              "      <th>genero_literario</th>\n",
              "      <th>male</th>\n",
              "      <th>female</th>\n",
              "    </tr>\n",
              "  </thead>\n",
              "  <tbody>\n",
              "    <tr>\n",
              "      <th>1</th>\n",
              "      <td>Minha Sombria Vanessa</td>\n",
              "      <td>Kate Elizabeth Russell</td>\n",
              "      <td>2020</td>\n",
              "      <td>432</td>\n",
              "      <td>português</td>\n",
              "      <td>Intrínseca</td>\n",
              "      <td>4.3</td>\n",
              "      <td>2</td>\n",
              "      <td>653</td>\n",
              "      <td>48</td>\n",
              "      <td>3</td>\n",
              "      <td>6</td>\n",
              "      <td>389</td>\n",
              "      <td>2</td>\n",
              "      <td>Drama / Ficção / Literatura Estrangeira / Susp...</td>\n",
              "      <td>7</td>\n",
              "      <td>93</td>\n",
              "    </tr>\n",
              "    <tr>\n",
              "      <th>2</th>\n",
              "      <td>Recursão</td>\n",
              "      <td>Blake Crouch</td>\n",
              "      <td>2020</td>\n",
              "      <td>320</td>\n",
              "      <td>português</td>\n",
              "      <td>Intrínseca</td>\n",
              "      <td>4.4</td>\n",
              "      <td>2</td>\n",
              "      <td>618</td>\n",
              "      <td>22</td>\n",
              "      <td>2</td>\n",
              "      <td>6</td>\n",
              "      <td>295</td>\n",
              "      <td>2</td>\n",
              "      <td>Ficção / Ficção científica / Literatura Estran...</td>\n",
              "      <td>21</td>\n",
              "      <td>79</td>\n",
              "    </tr>\n",
              "  </tbody>\n",
              "</table>\n",
              "</div>"
            ],
            "text/plain": [
              "                  titulo                   autor  ...  male  female\n",
              "1  Minha Sombria Vanessa  Kate Elizabeth Russell  ...     7      93\n",
              "2               Recursão            Blake Crouch  ...    21      79\n",
              "\n",
              "[2 rows x 17 columns]"
            ]
          },
          "metadata": {
            "tags": []
          },
          "execution_count": 135
        }
      ]
    },
    {
      "cell_type": "code",
      "metadata": {
        "colab": {
          "base_uri": "https://localhost:8080/"
        },
        "id": "FzZH-lN88Sjv",
        "outputId": "aef754eb-c787-4ade-8ee6-b5cc61565cbc"
      },
      "source": [
        "df_final.info() # cheking the infos"
      ],
      "execution_count": 136,
      "outputs": [
        {
          "output_type": "stream",
          "text": [
            "<class 'pandas.core.frame.DataFrame'>\n",
            "Int64Index: 11564 entries, 1 to 11974\n",
            "Data columns (total 17 columns):\n",
            " #   Column            Non-Null Count  Dtype  \n",
            "---  ------            --------------  -----  \n",
            " 0   titulo            11564 non-null  object \n",
            " 1   autor             11562 non-null  object \n",
            " 2   ano               11564 non-null  int64  \n",
            " 3   total_paginas     11564 non-null  int64  \n",
            " 4   idioma            11563 non-null  object \n",
            " 5   editora           11563 non-null  object \n",
            " 6   rating            11564 non-null  float64\n",
            " 7   avaliacao         11564 non-null  int64  \n",
            " 8   resenha           11564 non-null  int64  \n",
            " 9   abandonos         11564 non-null  int64  \n",
            " 10  relendo           11564 non-null  int64  \n",
            " 11  querem_ler        11564 non-null  int64  \n",
            " 12  lendo             11564 non-null  int64  \n",
            " 13  leram             11564 non-null  int64  \n",
            " 14  genero_literario  11135 non-null  object \n",
            " 15  male              11564 non-null  int64  \n",
            " 16  female            11564 non-null  int64  \n",
            "dtypes: float64(1), int64(11), object(5)\n",
            "memory usage: 1.6+ MB\n"
          ],
          "name": "stdout"
        }
      ]
    },
    {
      "cell_type": "code",
      "metadata": {
        "colab": {
          "base_uri": "https://localhost:8080/"
        },
        "id": "-swcpz1G8v5-",
        "outputId": "460b9711-bf4b-4520-d62f-c39f936975df"
      },
      "source": [
        "df_final.isnull().sum() #cheking for any null values"
      ],
      "execution_count": 137,
      "outputs": [
        {
          "output_type": "execute_result",
          "data": {
            "text/plain": [
              "titulo                0\n",
              "autor                 2\n",
              "ano                   0\n",
              "total_paginas         0\n",
              "idioma                1\n",
              "editora               1\n",
              "rating                0\n",
              "avaliacao             0\n",
              "resenha               0\n",
              "abandonos             0\n",
              "relendo               0\n",
              "querem_ler            0\n",
              "lendo                 0\n",
              "leram                 0\n",
              "genero_literario    429\n",
              "male                  0\n",
              "female                0\n",
              "dtype: int64"
            ]
          },
          "metadata": {
            "tags": []
          },
          "execution_count": 137
        }
      ]
    },
    {
      "cell_type": "code",
      "metadata": {
        "colab": {
          "base_uri": "https://localhost:8080/"
        },
        "id": "qAhEdb39-Ytd",
        "outputId": "b849866d-739d-4bc2-bb8f-8dd51cbb1c41"
      },
      "source": [
        "df_final.dropna(inplace=True) #dropando todos os nulos do dataset"
      ],
      "execution_count": 142,
      "outputs": [
        {
          "output_type": "stream",
          "text": [
            "/usr/local/lib/python3.6/dist-packages/ipykernel_launcher.py:1: SettingWithCopyWarning: \n",
            "A value is trying to be set on a copy of a slice from a DataFrame\n",
            "\n",
            "See the caveats in the documentation: https://pandas.pydata.org/pandas-docs/stable/user_guide/indexing.html#returning-a-view-versus-a-copy\n",
            "  \"\"\"Entry point for launching an IPython kernel.\n"
          ],
          "name": "stderr"
        }
      ]
    },
    {
      "cell_type": "code",
      "metadata": {
        "colab": {
          "base_uri": "https://localhost:8080/"
        },
        "id": "W0kn7wyR-uCw",
        "outputId": "9fa8f95e-a4a3-47ee-a2d1-9f466217b4f0"
      },
      "source": [
        "df_final.isnull().sum() #verificando se ainda existe algum nulo"
      ],
      "execution_count": 143,
      "outputs": [
        {
          "output_type": "execute_result",
          "data": {
            "text/plain": [
              "titulo              0\n",
              "autor               0\n",
              "ano                 0\n",
              "total_paginas       0\n",
              "idioma              0\n",
              "editora             0\n",
              "rating              0\n",
              "avaliacao           0\n",
              "resenha             0\n",
              "abandonos           0\n",
              "relendo             0\n",
              "querem_ler          0\n",
              "lendo               0\n",
              "leram               0\n",
              "genero_literario    0\n",
              "male                0\n",
              "female              0\n",
              "dtype: int64"
            ]
          },
          "metadata": {
            "tags": []
          },
          "execution_count": 143
        }
      ]
    },
    {
      "cell_type": "code",
      "metadata": {
        "colab": {
          "base_uri": "https://localhost:8080/"
        },
        "id": "FszO1zkq_OWD",
        "outputId": "99e433a2-afdf-4de0-d547-d5b96506e58c"
      },
      "source": [
        "df_final.info() # verificando as infos novamente"
      ],
      "execution_count": 144,
      "outputs": [
        {
          "output_type": "stream",
          "text": [
            "<class 'pandas.core.frame.DataFrame'>\n",
            "Int64Index: 11133 entries, 1 to 11974\n",
            "Data columns (total 17 columns):\n",
            " #   Column            Non-Null Count  Dtype  \n",
            "---  ------            --------------  -----  \n",
            " 0   titulo            11133 non-null  object \n",
            " 1   autor             11133 non-null  object \n",
            " 2   ano               11133 non-null  int64  \n",
            " 3   total_paginas     11133 non-null  int64  \n",
            " 4   idioma            11133 non-null  object \n",
            " 5   editora           11133 non-null  object \n",
            " 6   rating            11133 non-null  float64\n",
            " 7   avaliacao         11133 non-null  int64  \n",
            " 8   resenha           11133 non-null  int64  \n",
            " 9   abandonos         11133 non-null  int64  \n",
            " 10  relendo           11133 non-null  int64  \n",
            " 11  querem_ler        11133 non-null  int64  \n",
            " 12  lendo             11133 non-null  int64  \n",
            " 13  leram             11133 non-null  int64  \n",
            " 14  genero_literario  11133 non-null  object \n",
            " 15  male              11133 non-null  int64  \n",
            " 16  female            11133 non-null  int64  \n",
            "dtypes: float64(1), int64(11), object(5)\n",
            "memory usage: 1.5+ MB\n"
          ],
          "name": "stdout"
        }
      ]
    },
    {
      "cell_type": "code",
      "metadata": {
        "id": "nZMujSLOCq_v"
      },
      "source": [
        ""
      ],
      "execution_count": 153,
      "outputs": []
    },
    {
      "cell_type": "code",
      "metadata": {
        "colab": {
          "base_uri": "https://localhost:8080/",
          "height": 297
        },
        "id": "oAw2zqcbAVQW",
        "outputId": "ebf50daf-0b10-4147-a7db-6d95492acf47"
      },
      "source": [
        "df_final.describe()"
      ],
      "execution_count": 145,
      "outputs": [
        {
          "output_type": "execute_result",
          "data": {
            "text/html": [
              "<div>\n",
              "<style scoped>\n",
              "    .dataframe tbody tr th:only-of-type {\n",
              "        vertical-align: middle;\n",
              "    }\n",
              "\n",
              "    .dataframe tbody tr th {\n",
              "        vertical-align: top;\n",
              "    }\n",
              "\n",
              "    .dataframe thead th {\n",
              "        text-align: right;\n",
              "    }\n",
              "</style>\n",
              "<table border=\"1\" class=\"dataframe\">\n",
              "  <thead>\n",
              "    <tr style=\"text-align: right;\">\n",
              "      <th></th>\n",
              "      <th>ano</th>\n",
              "      <th>total_paginas</th>\n",
              "      <th>rating</th>\n",
              "      <th>avaliacao</th>\n",
              "      <th>resenha</th>\n",
              "      <th>abandonos</th>\n",
              "      <th>relendo</th>\n",
              "      <th>querem_ler</th>\n",
              "      <th>lendo</th>\n",
              "      <th>leram</th>\n",
              "      <th>male</th>\n",
              "      <th>female</th>\n",
              "    </tr>\n",
              "  </thead>\n",
              "  <tbody>\n",
              "    <tr>\n",
              "      <th>count</th>\n",
              "      <td>11133.000000</td>\n",
              "      <td>11133.000000</td>\n",
              "      <td>11133.000000</td>\n",
              "      <td>11133.000000</td>\n",
              "      <td>11133.000000</td>\n",
              "      <td>11133.000000</td>\n",
              "      <td>11133.000000</td>\n",
              "      <td>11133.000000</td>\n",
              "      <td>11133.000000</td>\n",
              "      <td>11133.000000</td>\n",
              "      <td>11133.000000</td>\n",
              "      <td>11133.000000</td>\n",
              "    </tr>\n",
              "    <tr>\n",
              "      <th>mean</th>\n",
              "      <td>2008.490434</td>\n",
              "      <td>279.693524</td>\n",
              "      <td>3.928169</td>\n",
              "      <td>121.272613</td>\n",
              "      <td>50.340250</td>\n",
              "      <td>37.499147</td>\n",
              "      <td>10.538399</td>\n",
              "      <td>150.673853</td>\n",
              "      <td>53.261924</td>\n",
              "      <td>127.863828</td>\n",
              "      <td>26.661547</td>\n",
              "      <td>73.219707</td>\n",
              "    </tr>\n",
              "    <tr>\n",
              "      <th>std</th>\n",
              "      <td>64.123377</td>\n",
              "      <td>173.831600</td>\n",
              "      <td>0.465171</td>\n",
              "      <td>205.011862</td>\n",
              "      <td>125.451798</td>\n",
              "      <td>117.239476</td>\n",
              "      <td>60.057284</td>\n",
              "      <td>233.021993</td>\n",
              "      <td>129.134892</td>\n",
              "      <td>206.853120</td>\n",
              "      <td>19.415893</td>\n",
              "      <td>19.563395</td>\n",
              "    </tr>\n",
              "    <tr>\n",
              "      <th>min</th>\n",
              "      <td>0.000000</td>\n",
              "      <td>0.000000</td>\n",
              "      <td>1.000000</td>\n",
              "      <td>1.000000</td>\n",
              "      <td>0.000000</td>\n",
              "      <td>0.000000</td>\n",
              "      <td>0.000000</td>\n",
              "      <td>0.000000</td>\n",
              "      <td>0.000000</td>\n",
              "      <td>0.000000</td>\n",
              "      <td>0.000000</td>\n",
              "      <td>0.000000</td>\n",
              "    </tr>\n",
              "    <tr>\n",
              "      <th>25%</th>\n",
              "      <td>2007.000000</td>\n",
              "      <td>175.000000</td>\n",
              "      <td>3.700000</td>\n",
              "      <td>6.000000</td>\n",
              "      <td>1.000000</td>\n",
              "      <td>1.000000</td>\n",
              "      <td>0.000000</td>\n",
              "      <td>4.000000</td>\n",
              "      <td>2.000000</td>\n",
              "      <td>6.000000</td>\n",
              "      <td>11.000000</td>\n",
              "      <td>61.000000</td>\n",
              "    </tr>\n",
              "    <tr>\n",
              "      <th>50%</th>\n",
              "      <td>2012.000000</td>\n",
              "      <td>256.000000</td>\n",
              "      <td>4.000000</td>\n",
              "      <td>26.000000</td>\n",
              "      <td>4.000000</td>\n",
              "      <td>2.000000</td>\n",
              "      <td>0.000000</td>\n",
              "      <td>35.000000</td>\n",
              "      <td>8.000000</td>\n",
              "      <td>31.000000</td>\n",
              "      <td>24.000000</td>\n",
              "      <td>76.000000</td>\n",
              "    </tr>\n",
              "    <tr>\n",
              "      <th>75%</th>\n",
              "      <td>2016.000000</td>\n",
              "      <td>352.000000</td>\n",
              "      <td>4.200000</td>\n",
              "      <td>128.000000</td>\n",
              "      <td>33.000000</td>\n",
              "      <td>15.000000</td>\n",
              "      <td>2.000000</td>\n",
              "      <td>189.000000</td>\n",
              "      <td>38.000000</td>\n",
              "      <td>143.000000</td>\n",
              "      <td>39.000000</td>\n",
              "      <td>89.000000</td>\n",
              "    </tr>\n",
              "    <tr>\n",
              "      <th>max</th>\n",
              "      <td>2021.000000</td>\n",
              "      <td>4606.000000</td>\n",
              "      <td>5.000000</td>\n",
              "      <td>999.000000</td>\n",
              "      <td>985.000000</td>\n",
              "      <td>993.000000</td>\n",
              "      <td>877.000000</td>\n",
              "      <td>999.000000</td>\n",
              "      <td>994.000000</td>\n",
              "      <td>999.000000</td>\n",
              "      <td>100.000000</td>\n",
              "      <td>100.000000</td>\n",
              "    </tr>\n",
              "  </tbody>\n",
              "</table>\n",
              "</div>"
            ],
            "text/plain": [
              "                ano  total_paginas  ...          male        female\n",
              "count  11133.000000   11133.000000  ...  11133.000000  11133.000000\n",
              "mean    2008.490434     279.693524  ...     26.661547     73.219707\n",
              "std       64.123377     173.831600  ...     19.415893     19.563395\n",
              "min        0.000000       0.000000  ...      0.000000      0.000000\n",
              "25%     2007.000000     175.000000  ...     11.000000     61.000000\n",
              "50%     2012.000000     256.000000  ...     24.000000     76.000000\n",
              "75%     2016.000000     352.000000  ...     39.000000     89.000000\n",
              "max     2021.000000    4606.000000  ...    100.000000    100.000000\n",
              "\n",
              "[8 rows x 12 columns]"
            ]
          },
          "metadata": {
            "tags": []
          },
          "execution_count": 145
        }
      ]
    },
    {
      "cell_type": "markdown",
      "metadata": {
        "id": "iI_2JSbZ8NZx"
      },
      "source": [
        "# Exploratory Analysis"
      ]
    },
    {
      "cell_type": "markdown",
      "metadata": {
        "id": "s2Y7EycCJFG4"
      },
      "source": [
        "**Which are the books with most occurances in the list?**"
      ]
    },
    {
      "cell_type": "code",
      "metadata": {
        "colab": {
          "base_uri": "https://localhost:8080/"
        },
        "id": "Q1FDkQUaLPMk",
        "outputId": "5ecb4c12-1cd4-4b42-b9ad-594ec48d202f"
      },
      "source": [
        "df_final['titulo'].value_counts()[:20]"
      ],
      "execution_count": 153,
      "outputs": [
        {
          "output_type": "execute_result",
          "data": {
            "text/plain": [
              "O Alquimista                               11\n",
              "Brida                                       8\n",
              "Harry Potter e o Prisioneiro de Azkaban     8\n",
              "Harry Potter e a Ordem da Fênix             7\n",
              "Harry Potter e o Enigma do Príncipe         7\n",
              "Harry Potter e o Cálice de Fogo             7\n",
              "Piadas Nerds                                7\n",
              "As Valkírias                                7\n",
              "Harry Potter e a Câmara Secreta             7\n",
              "Inferno                                     7\n",
              "Harry Potter e as Relíquias da Morte        7\n",
              "A Cruz de Fogo                              6\n",
              "The Walking Dead                            6\n",
              "Diário de Uma Garota Nada Popular           6\n",
              "Amanhecer                                   6\n",
              "Silêncio                                    6\n",
              "A Menina que Roubava Livros                 6\n",
              "Extraordinário                              6\n",
              "O Monge e o Executivo                       6\n",
              "Crepúsculo                                  6\n",
              "Name: titulo, dtype: int64"
            ]
          },
          "metadata": {
            "tags": []
          },
          "execution_count": 153
        }
      ]
    },
    {
      "cell_type": "markdown",
      "metadata": {
        "id": "YwTvgq6GLqPr"
      },
      "source": [
        "**What happend here...**\r\n",
        "\r\n",
        "\r\n",
        "---\r\n",
        "\r\n",
        "\r\n",
        "We can see that **O alquimista** and **Brida** have the most number of occurrances with the same name in the data.\r\n",
        "\r\n",
        "As we can see in the **graph 01**"
      ]
    },
    {
      "cell_type": "code",
      "metadata": {
        "colab": {
          "base_uri": "https://localhost:8080/",
          "height": 886
        },
        "id": "A_tZGcIGLZiD",
        "outputId": "badc940d-9a68-4d89-fb59-4e0759b30d7d"
      },
      "source": [
        "#graph 01\r\n",
        "sns.set_context('poster')\r\n",
        "plt.figure(figsize=(20,15))\r\n",
        "books = df_final['titulo'].value_counts()[:20]\r\n",
        "rating = df_final.rating[:20]\r\n",
        "sns.barplot(x = books, y = books.index, palette='deep')\r\n",
        "plt.title('Most Ocurring Books')\r\n",
        "plt.xlabel('Number of ocurrences')\r\n",
        "plt.ylabel('Books')\r\n",
        "plt.show()"
      ],
      "execution_count": 154,
      "outputs": [
        {
          "output_type": "display_data",
          "data": {
            "image/png": "[encoded data removed]",
            "text/plain": [
              "<Figure size 1440x1080 with 1 Axes>"
            ]
          },
          "metadata": {
            "tags": []
          }
        }
      ]
    },
    {
      "cell_type": "code",
      "metadata": {
        "colab": {
          "base_uri": "https://localhost:8080/",
          "height": 665
        },
        "id": "SFHuxAXgBCAw",
        "outputId": "0e26179c-2f5e-4a93-a3bc-f11dcde8973d"
      },
      "source": [
        "# verificando os livros com mais avaliações avaliacao > 500\r\n",
        "top_ten = df_final[df_final['avaliacao'] > 500]\r\n",
        "top_ten.sort_values(by = 'rating', ascending=False).head(10) # ordenar por rating\r\n"
      ],
      "execution_count": 146,
      "outputs": [
        {
          "output_type": "execute_result",
          "data": {
            "text/html": [
              "<div>\n",
              "<style scoped>\n",
              "    .dataframe tbody tr th:only-of-type {\n",
              "        vertical-align: middle;\n",
              "    }\n",
              "\n",
              "    .dataframe tbody tr th {\n",
              "        vertical-align: top;\n",
              "    }\n",
              "\n",
              "    .dataframe thead th {\n",
              "        text-align: right;\n",
              "    }\n",
              "</style>\n",
              "<table border=\"1\" class=\"dataframe\">\n",
              "  <thead>\n",
              "    <tr style=\"text-align: right;\">\n",
              "      <th></th>\n",
              "      <th>titulo</th>\n",
              "      <th>autor</th>\n",
              "      <th>ano</th>\n",
              "      <th>total_paginas</th>\n",
              "      <th>idioma</th>\n",
              "      <th>editora</th>\n",
              "      <th>rating</th>\n",
              "      <th>avaliacao</th>\n",
              "      <th>resenha</th>\n",
              "      <th>abandonos</th>\n",
              "      <th>relendo</th>\n",
              "      <th>querem_ler</th>\n",
              "      <th>lendo</th>\n",
              "      <th>leram</th>\n",
              "      <th>genero_literario</th>\n",
              "      <th>male</th>\n",
              "      <th>female</th>\n",
              "    </tr>\n",
              "  </thead>\n",
              "  <tbody>\n",
              "    <tr>\n",
              "      <th>2066</th>\n",
              "      <td>Queda de Gigantes</td>\n",
              "      <td>Ken Follett</td>\n",
              "      <td>2010</td>\n",
              "      <td>912</td>\n",
              "      <td>português</td>\n",
              "      <td>Sextante</td>\n",
              "      <td>4.8</td>\n",
              "      <td>525</td>\n",
              "      <td>19</td>\n",
              "      <td>18</td>\n",
              "      <td>0</td>\n",
              "      <td>583</td>\n",
              "      <td>82</td>\n",
              "      <td>1</td>\n",
              "      <td>Ficção / História</td>\n",
              "      <td>32</td>\n",
              "      <td>68</td>\n",
              "    </tr>\n",
              "    <tr>\n",
              "      <th>3309</th>\n",
              "      <td>Corrente de Ouro</td>\n",
              "      <td>Cassandra Clare</td>\n",
              "      <td>2020</td>\n",
              "      <td>598</td>\n",
              "      <td>português</td>\n",
              "      <td>Galera</td>\n",
              "      <td>4.7</td>\n",
              "      <td>748</td>\n",
              "      <td>121</td>\n",
              "      <td>0</td>\n",
              "      <td>2</td>\n",
              "      <td>2</td>\n",
              "      <td>281</td>\n",
              "      <td>343</td>\n",
              "      <td>Fantasia / Ficção / Literatura Estrangeira / R...</td>\n",
              "      <td>9</td>\n",
              "      <td>91</td>\n",
              "    </tr>\n",
              "    <tr>\n",
              "      <th>3315</th>\n",
              "      <td>Corrente de Ouro</td>\n",
              "      <td>Cassandra Clare</td>\n",
              "      <td>2020</td>\n",
              "      <td>625</td>\n",
              "      <td>português</td>\n",
              "      <td>Galera</td>\n",
              "      <td>4.7</td>\n",
              "      <td>748</td>\n",
              "      <td>121</td>\n",
              "      <td>0</td>\n",
              "      <td>2</td>\n",
              "      <td>2</td>\n",
              "      <td>281</td>\n",
              "      <td>343</td>\n",
              "      <td>Fantasia / Ficção / Literatura Estrangeira / R...</td>\n",
              "      <td>9</td>\n",
              "      <td>91</td>\n",
              "    </tr>\n",
              "    <tr>\n",
              "      <th>11062</th>\n",
              "      <td>Irmãs em Auschwitz</td>\n",
              "      <td>Rena Kornreich Gelissen</td>\n",
              "      <td>2015</td>\n",
              "      <td>406</td>\n",
              "      <td>português</td>\n",
              "      <td>Universo</td>\n",
              "      <td>4.7</td>\n",
              "      <td>672</td>\n",
              "      <td>72</td>\n",
              "      <td>7</td>\n",
              "      <td>0</td>\n",
              "      <td>1</td>\n",
              "      <td>42</td>\n",
              "      <td>896</td>\n",
              "      <td>Literatura Estrangeira / Biografia, Autobiogra...</td>\n",
              "      <td>11</td>\n",
              "      <td>89</td>\n",
              "    </tr>\n",
              "    <tr>\n",
              "      <th>4338</th>\n",
              "      <td>O Caminho de Casa</td>\n",
              "      <td>Yaa Gyasi</td>\n",
              "      <td>2017</td>\n",
              "      <td>448</td>\n",
              "      <td>português</td>\n",
              "      <td>Rocco</td>\n",
              "      <td>4.7</td>\n",
              "      <td>505</td>\n",
              "      <td>50</td>\n",
              "      <td>7</td>\n",
              "      <td>0</td>\n",
              "      <td>1</td>\n",
              "      <td>65</td>\n",
              "      <td>630</td>\n",
              "      <td>Com uma narrativa poderosa e envolvente que c...</td>\n",
              "      <td>14</td>\n",
              "      <td>86</td>\n",
              "    </tr>\n",
              "    <tr>\n",
              "      <th>666</th>\n",
              "      <td>A Ascensão da Sombra</td>\n",
              "      <td>Robert Jordan</td>\n",
              "      <td>2015</td>\n",
              "      <td>991</td>\n",
              "      <td>português</td>\n",
              "      <td>Intrínseca</td>\n",
              "      <td>4.7</td>\n",
              "      <td>734</td>\n",
              "      <td>32</td>\n",
              "      <td>4</td>\n",
              "      <td>3</td>\n",
              "      <td>1</td>\n",
              "      <td>99</td>\n",
              "      <td>1</td>\n",
              "      <td>Romance / Fantasia / Literatura Estrangeira</td>\n",
              "      <td>57</td>\n",
              "      <td>43</td>\n",
              "    </tr>\n",
              "    <tr>\n",
              "      <th>4220</th>\n",
              "      <td>Sulwe</td>\n",
              "      <td>Lupita Nyongo</td>\n",
              "      <td>2019</td>\n",
              "      <td>48</td>\n",
              "      <td>português</td>\n",
              "      <td>Rocco</td>\n",
              "      <td>4.7</td>\n",
              "      <td>510</td>\n",
              "      <td>89</td>\n",
              "      <td>0</td>\n",
              "      <td>0</td>\n",
              "      <td>1</td>\n",
              "      <td>9</td>\n",
              "      <td>567</td>\n",
              "      <td>Fantasia / Ficção / Infantil</td>\n",
              "      <td>9</td>\n",
              "      <td>91</td>\n",
              "    </tr>\n",
              "    <tr>\n",
              "      <th>3349</th>\n",
              "      <td>Fantasmas do Mercado das Sombras</td>\n",
              "      <td>Cassandra Clare</td>\n",
              "      <td>2019</td>\n",
              "      <td>476</td>\n",
              "      <td>português</td>\n",
              "      <td>Galera</td>\n",
              "      <td>4.6</td>\n",
              "      <td>892</td>\n",
              "      <td>122</td>\n",
              "      <td>3</td>\n",
              "      <td>2</td>\n",
              "      <td>2</td>\n",
              "      <td>155</td>\n",
              "      <td>982</td>\n",
              "      <td>Fantasia / Ficção / Literatura Estrangeira</td>\n",
              "      <td>12</td>\n",
              "      <td>88</td>\n",
              "    </tr>\n",
              "    <tr>\n",
              "      <th>7625</th>\n",
              "      <td>Destinos Quebrados</td>\n",
              "      <td>Sofia Silva</td>\n",
              "      <td>2019</td>\n",
              "      <td>248</td>\n",
              "      <td>português</td>\n",
              "      <td>Editora</td>\n",
              "      <td>4.6</td>\n",
              "      <td>501</td>\n",
              "      <td>79</td>\n",
              "      <td>2</td>\n",
              "      <td>0</td>\n",
              "      <td>2</td>\n",
              "      <td>30</td>\n",
              "      <td>587</td>\n",
              "      <td>Ficção / Literatura Estrangeira / Romance</td>\n",
              "      <td>3</td>\n",
              "      <td>97</td>\n",
              "    </tr>\n",
              "    <tr>\n",
              "      <th>3473</th>\n",
              "      <td>A Court of Wings and Ruin</td>\n",
              "      <td>Sarah J. Maas</td>\n",
              "      <td>2017</td>\n",
              "      <td>699</td>\n",
              "      <td>português</td>\n",
              "      <td>Bloomsbury</td>\n",
              "      <td>4.6</td>\n",
              "      <td>625</td>\n",
              "      <td>38</td>\n",
              "      <td>3</td>\n",
              "      <td>3</td>\n",
              "      <td>260</td>\n",
              "      <td>30</td>\n",
              "      <td>820</td>\n",
              "      <td>Fantasia / Ficção / Jovem adulto / Literatura ...</td>\n",
              "      <td>4</td>\n",
              "      <td>96</td>\n",
              "    </tr>\n",
              "  </tbody>\n",
              "</table>\n",
              "</div>"
            ],
            "text/plain": [
              "                                 titulo                    autor  ...  male  female\n",
              "2066                  Queda de Gigantes              Ken Follett  ...    32      68\n",
              "3309                   Corrente de Ouro          Cassandra Clare  ...     9      91\n",
              "3315                   Corrente de Ouro          Cassandra Clare  ...     9      91\n",
              "11062                Irmãs em Auschwitz  Rena Kornreich Gelissen  ...    11      89\n",
              "4338                  O Caminho de Casa                Yaa Gyasi  ...    14      86\n",
              "666                A Ascensão da Sombra            Robert Jordan  ...    57      43\n",
              "4220                              Sulwe           Lupita Nyongo  ...     9      91\n",
              "3349   Fantasmas do Mercado das Sombras          Cassandra Clare  ...    12      88\n",
              "7625                 Destinos Quebrados              Sofia Silva  ...     3      97\n",
              "3473          A Court of Wings and Ruin            Sarah J. Maas  ...     4      96\n",
              "\n",
              "[10 rows x 17 columns]"
            ]
          },
          "metadata": {
            "tags": []
          },
          "execution_count": 146
        }
      ]
    },
    {
      "cell_type": "markdown",
      "metadata": {
        "id": "CSI0GPy1BzvN"
      },
      "source": [
        "**What happend here...**\r\n",
        "\r\n",
        "\r\n",
        "---\r\n",
        "\r\n",
        "\r\n",
        "\r\n",
        "where avalicao > 500 we can see the first 10 books with the average rating.  We saw that the maximum rating in our data was 5.0 but we dont see any books in the above result with 5.0 rating. This is because we filtered these books on the basis of the number of ratings. We made sure that all the books that we have in the above results have a decent amount of rating. There can be books in the data that can have only 1 or 2 ratings can be rated 5.0. We want to avoid such books hence this sort of filtering.\r\n",
        "\r\n",
        "As we can see this in **graph 02**\r\n"
      ]
    },
    {
      "cell_type": "code",
      "metadata": {
        "colab": {
          "base_uri": "https://localhost:8080/",
          "height": 748
        },
        "id": "0u9HXrvdEkPo",
        "outputId": "0ee037cf-146a-4dcc-913e-a5ba152f689b"
      },
      "source": [
        "# graph 02\r\n",
        "plt.style.use('seaborn-whitegrid')\r\n",
        "plt.figure(figsize=(12,12))\r\n",
        "data = top_ten.sort_values(by='rating', ascending=False).head(10)\r\n",
        "sns.barplot(x = 'rating', y = 'titulo', data = data, palette='inferno')\r\n",
        "plt.title('Top ten most rated books by rating', fontsize=20)\r\n"
      ],
      "execution_count": 174,
      "outputs": [
        {
          "output_type": "execute_result",
          "data": {
            "text/plain": [
              "Text(0.5, 1.0, 'Top ten most rated books by rating')"
            ]
          },
          "metadata": {
            "tags": []
          },
          "execution_count": 174
        },
        {
          "output_type": "display_data",
          "data": {
            "image/png": "[encoded data removed]",
            "text/plain": [
              "<Figure size 864x864 with 1 Axes>"
            ]
          },
          "metadata": {
            "tags": []
          }
        }
      ]
    },
    {
      "cell_type": "markdown",
      "metadata": {
        "id": "JG12VIRCNjRd"
      },
      "source": [
        "**What is the distribution of books across languages?**"
      ]
    },
    {
      "cell_type": "code",
      "metadata": {
        "colab": {
          "base_uri": "https://localhost:8080/"
        },
        "id": "LugxDXcsGkF7",
        "outputId": "4a997358-ead8-49fc-9cff-97e56bec2130"
      },
      "source": [
        "df_final.groupby('idioma')['titulo'].count()"
      ],
      "execution_count": 158,
      "outputs": [
        {
          "output_type": "execute_result",
          "data": {
            "text/plain": [
              "idioma\n",
              "espanhol        20\n",
              "francês          1\n",
              "inglês          68\n",
              "italiano         1\n",
              "português    11043\n",
              "Name: titulo, dtype: int64"
            ]
          },
          "metadata": {
            "tags": []
          },
          "execution_count": 158
        }
      ]
    },
    {
      "cell_type": "code",
      "metadata": {
        "colab": {
          "base_uri": "https://localhost:8080/",
          "height": 685
        },
        "id": "--sqyImgO_y0",
        "outputId": "8f03ff2c-6f39-4869-8e1c-810f8722695c"
      },
      "source": [
        "sns.set_context('paper')\r\n",
        "plt.figure(figsize=(10,10))\r\n",
        "ax = df_final.groupby('idioma')['titulo'].count().plot.bar()\r\n",
        "plt.title('Idioma por título', fontsize=20)\r\n",
        "plt.xticks(fontsize=15)\r\n",
        "for p in ax.patches:\r\n",
        "  ax.annotate(str(p.get_height()), (p.get_x()-0.3, p.get_height()+100))"
      ],
      "execution_count": 166,
      "outputs": [
        {
          "output_type": "display_data",
          "data": {
            "image/png": "[encoded data removed]",
            "text/plain": [
              "<Figure size 720x720 with 1 Axes>"
            ]
          },
          "metadata": {
            "tags": []
          }
        }
      ]
    },
    {
      "cell_type": "markdown",
      "metadata": {
        "id": "nMdYlt0xRLvm"
      },
      "source": [
        "**What happend here...**\r\n",
        "\r\n",
        "\r\n",
        "---\r\n",
        "A maior quantidade de títulos está em português com um total de 11043.\r\n",
        "\r\n",
        "Segunda maior quantidade de títulos está em inglês com um total de 68 títulos.\r\n"
      ]
    },
    {
      "cell_type": "markdown",
      "metadata": {
        "id": "i3xFrDrWRoDT"
      },
      "source": [
        "**Which are the authors with most books?**\r\n"
      ]
    },
    {
      "cell_type": "code",
      "metadata": {
        "colab": {
          "base_uri": "https://localhost:8080/",
          "height": 390
        },
        "id": "PJjLns0FRLHf",
        "outputId": "921899d5-cfcb-4977-f16c-78a0cc985672"
      },
      "source": [
        "df_final.groupby('autor')['titulo'].count().reset_index().sort_values('titulo', ascending=False).head(10).set_index('autor')"
      ],
      "execution_count": 175,
      "outputs": [
        {
          "output_type": "execute_result",
          "data": {
            "text/html": [
              "<div>\n",
              "<style scoped>\n",
              "    .dataframe tbody tr th:only-of-type {\n",
              "        vertical-align: middle;\n",
              "    }\n",
              "\n",
              "    .dataframe tbody tr th {\n",
              "        vertical-align: top;\n",
              "    }\n",
              "\n",
              "    .dataframe thead th {\n",
              "        text-align: right;\n",
              "    }\n",
              "</style>\n",
              "<table border=\"1\" class=\"dataframe\">\n",
              "  <thead>\n",
              "    <tr style=\"text-align: right;\">\n",
              "      <th></th>\n",
              "      <th>titulo</th>\n",
              "    </tr>\n",
              "    <tr>\n",
              "      <th>autor</th>\n",
              "      <th></th>\n",
              "    </tr>\n",
              "  </thead>\n",
              "  <tbody>\n",
              "    <tr>\n",
              "      <th>Clarice Lispector</th>\n",
              "      <td>102</td>\n",
              "    </tr>\n",
              "    <tr>\n",
              "      <th>Rick Riordan</th>\n",
              "      <td>76</td>\n",
              "    </tr>\n",
              "    <tr>\n",
              "      <th>Meg Cabot</th>\n",
              "      <td>72</td>\n",
              "    </tr>\n",
              "    <tr>\n",
              "      <th>J.K. Rowling</th>\n",
              "      <td>66</td>\n",
              "    </tr>\n",
              "    <tr>\n",
              "      <th>Rocco</th>\n",
              "      <td>66</td>\n",
              "    </tr>\n",
              "    <tr>\n",
              "      <th>Paulo Coelho</th>\n",
              "      <td>64</td>\n",
              "    </tr>\n",
              "    <tr>\n",
              "      <th>Augusto Cury</th>\n",
              "      <td>62</td>\n",
              "    </tr>\n",
              "    <tr>\n",
              "      <th>Lucasfilm Ltd.</th>\n",
              "      <td>55</td>\n",
              "    </tr>\n",
              "    <tr>\n",
              "      <th>Anne Rice</th>\n",
              "      <td>54</td>\n",
              "    </tr>\n",
              "    <tr>\n",
              "      <th>Cassandra Clare</th>\n",
              "      <td>53</td>\n",
              "    </tr>\n",
              "  </tbody>\n",
              "</table>\n",
              "</div>"
            ],
            "text/plain": [
              "                   titulo\n",
              "autor                    \n",
              "Clarice Lispector     102\n",
              "Rick Riordan           76\n",
              "Meg Cabot              72\n",
              "J.K. Rowling           66\n",
              "Rocco                  66\n",
              "Paulo Coelho           64\n",
              "Augusto Cury           62\n",
              "Lucasfilm Ltd.         55\n",
              "Anne Rice              54\n",
              "Cassandra Clare        53"
            ]
          },
          "metadata": {
            "tags": []
          },
          "execution_count": 175
        }
      ]
    },
    {
      "cell_type": "code",
      "metadata": {
        "colab": {
          "base_uri": "https://localhost:8080/",
          "height": 672
        },
        "id": "RxY9iaXXTkb5",
        "outputId": "1a519f7b-8ccf-4d58-fc2e-c58eb56eacef"
      },
      "source": [
        "most_books = df_final.groupby('autor')['titulo'].count().reset_index().sort_values('titulo', ascending=False).head(10).set_index('autor')\r\n",
        "plt.figure(figsize=(15,10))\r\n",
        "ax = sns.barplot(most_books['titulo'], most_books.index, palette='inferno')\r\n",
        "ax.set_title('Top 10 autores com mais livros', fontsize=15)\r\n",
        "ax.set_xlabel('Total de número de livros')\r\n",
        "totals_2 = []\r\n",
        "for i in ax.patches:\r\n",
        "  totals_2.append(i.get_width())\r\n",
        "sum(totals_2)\r\n",
        "for i in ax.patches:\r\n",
        "  ax.text(i.get_width()+.2, i.get_y()+.2,str(round(i.get_width())), fontsize=15,color='black')\r\n",
        "plt.show()"
      ],
      "execution_count": 177,
      "outputs": [
        {
          "output_type": "stream",
          "text": [
            "/usr/local/lib/python3.6/dist-packages/seaborn/_decorators.py:43: FutureWarning: Pass the following variables as keyword args: x, y. From version 0.12, the only valid positional argument will be `data`, and passing other arguments without an explicit keyword will result in an error or misinterpretation.\n",
            "  FutureWarning\n"
          ],
          "name": "stderr"
        },
        {
          "output_type": "display_data",
          "data": {
            "image/png": "[encoded data removed]",
            "text/plain": [
              "<Figure size 1080x720 with 1 Axes>"
            ]
          },
          "metadata": {
            "tags": []
          }
        }
      ]
    }
  ]
}